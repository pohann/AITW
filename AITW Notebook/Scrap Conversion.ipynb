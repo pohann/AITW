{
 "cells": [
  {
   "cell_type": "code",
   "execution_count": 1,
   "metadata": {},
   "outputs": [],
   "source": [
    "from selenium import webdriver\n",
    "driver = webdriver.Firefox()\n",
    "driver.implicitly_wait(3)"
   ]
  },
  {
   "cell_type": "code",
   "execution_count": 2,
   "metadata": {},
   "outputs": [],
   "source": [
    "#please log in manually\n",
    "driver.get('https://www.amnesty.tw/user')"
   ]
  },
  {
   "cell_type": "code",
   "execution_count": 3,
   "metadata": {},
   "outputs": [
    {
     "name": "stderr",
     "output_type": "stream",
     "text": [
      "Progress: 100% |##############| Elapsed Time: 0:00:10 Time: 0:00:10 929.77  B/s\n"
     ]
    }
   ],
   "source": [
    "from time import sleep\n",
    "\n",
    "#ignore warnings\n",
    "import warnings\n",
    "warnings.filterwarnings('ignore')\n",
    "\n",
    "import sys\n",
    "sys.path.append('./Modules')\n",
    "\n",
    "import scrap_conversion as sc"
   ]
  },
  {
   "cell_type": "code",
   "execution_count": 6,
   "metadata": {},
   "outputs": [
    {
     "name": "stdout",
     "output_type": "stream",
     "text": [
      "Step1: load TM list file\n",
      "Please enter file name: TMList-UpTo20190906\n",
      "File loaded succesfully!\n",
      "====================\n",
      "Step2: load conversion list file\n",
      "Please enter file name: Conversion Leads\n",
      "File loaded succesfully!\n",
      "====================\n",
      "Step3: Start scraping info\n"
     ]
    }
   ],
   "source": [
    "# executing the program\n",
    "if __name__ == '__main__':\n",
    "    \n",
    "    print('Step1: load TM list file')\n",
    "    tm_df = sc.load_tm()\n",
    "    print('='*20)\n",
    "    print('Step2: load conversion list file')\n",
    "    conversion_df = sc.load_conversion()\n",
    "    print('='*20)\n",
    "    print('Step3: Start scraping info')\n",
    "    sc.scrap_info(tm_df,conversion_df,driver)"
   ]
  },
  {
   "cell_type": "code",
   "execution_count": 7,
   "metadata": {},
   "outputs": [],
   "source": [
    "#save file\n",
    "conversion_df.to_csv('./資料/Conversion Leads.csv',index = False,encoding='big5')"
   ]
  },
  {
   "cell_type": "code",
   "execution_count": 8,
   "metadata": {},
   "outputs": [],
   "source": [
    "driver.close()"
   ]
  }
 ],
 "metadata": {
  "kernelspec": {
   "display_name": "Python 3",
   "language": "python",
   "name": "python3"
  },
  "language_info": {
   "codemirror_mode": {
    "name": "ipython",
    "version": 3
   },
   "file_extension": ".py",
   "mimetype": "text/x-python",
   "name": "python",
   "nbconvert_exporter": "python",
   "pygments_lexer": "ipython3",
   "version": "3.7.3"
  }
 },
 "nbformat": 4,
 "nbformat_minor": 2
}
