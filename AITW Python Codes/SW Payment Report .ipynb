{
 "cells": [
  {
   "cell_type": "code",
   "execution_count": 83,
   "metadata": {},
   "outputs": [],
   "source": [
    "import pandas as pd\n",
    "\n",
    "import warnings\n",
    "warnings.filterwarnings(action='ignore')"
   ]
  },
  {
   "cell_type": "code",
   "execution_count": 84,
   "metadata": {},
   "outputs": [
    {
     "data": {
      "text/html": [
       "<div>\n",
       "<style scoped>\n",
       "    .dataframe tbody tr th:only-of-type {\n",
       "        vertical-align: middle;\n",
       "    }\n",
       "\n",
       "    .dataframe tbody tr th {\n",
       "        vertical-align: top;\n",
       "    }\n",
       "\n",
       "    .dataframe thead th {\n",
       "        text-align: right;\n",
       "    }\n",
       "</style>\n",
       "<table border=\"1\" class=\"dataframe\">\n",
       "  <thead>\n",
       "    <tr style=\"text-align: right;\">\n",
       "      <th></th>\n",
       "      <th>捐款者編號</th>\n",
       "      <th>交易編號</th>\n",
       "      <th>總金額</th>\n",
       "      <th>捐款狀態</th>\n",
       "    </tr>\n",
       "  </thead>\n",
       "  <tbody>\n",
       "    <tr>\n",
       "      <th>0</th>\n",
       "      <td>AI190910771</td>\n",
       "      <td>57830089</td>\n",
       "      <td>300.0</td>\n",
       "      <td>已失敗</td>\n",
       "    </tr>\n",
       "    <tr>\n",
       "      <th>1</th>\n",
       "      <td>AI190900994</td>\n",
       "      <td>57830088</td>\n",
       "      <td>500.0</td>\n",
       "      <td>已完成</td>\n",
       "    </tr>\n",
       "    <tr>\n",
       "      <th>2</th>\n",
       "      <td>881909391910</td>\n",
       "      <td>57920780</td>\n",
       "      <td>500.0</td>\n",
       "      <td>已失敗</td>\n",
       "    </tr>\n",
       "    <tr>\n",
       "      <th>3</th>\n",
       "      <td>712425</td>\n",
       "      <td>57920758</td>\n",
       "      <td>500.0</td>\n",
       "      <td>已失敗</td>\n",
       "    </tr>\n",
       "    <tr>\n",
       "      <th>4</th>\n",
       "      <td>881904345146</td>\n",
       "      <td>57920765</td>\n",
       "      <td>500.0</td>\n",
       "      <td>已失敗</td>\n",
       "    </tr>\n",
       "  </tbody>\n",
       "</table>\n",
       "</div>"
      ],
      "text/plain": [
       "          捐款者編號      交易編號    總金額 捐款狀態\n",
       "0   AI190910771  57830089  300.0  已失敗\n",
       "1   AI190900994  57830088  500.0  已完成\n",
       "2  881909391910  57920780  500.0  已失敗\n",
       "3        712425  57920758  500.0  已失敗\n",
       "4  881904345146  57920765  500.0  已失敗"
      ]
     },
     "execution_count": 84,
     "metadata": {},
     "output_type": "execute_result"
    }
   ],
   "source": [
    "#請先過濾出定期定額1之transaction，並以日期排序\n",
    "df = pd.read_csv('./資料/APPCO_OCT_Transaction.csv',encoding='big5')\n",
    "df.head()"
   ]
  },
  {
   "cell_type": "code",
   "execution_count": 85,
   "metadata": {},
   "outputs": [
    {
     "data": {
      "text/plain": [
       "17183"
      ]
     },
     "execution_count": 85,
     "metadata": {},
     "output_type": "execute_result"
    }
   ],
   "source": [
    "#first attempts\n",
    "len(df['捐款者編號'].unique())"
   ]
  },
  {
   "cell_type": "code",
   "execution_count": 86,
   "metadata": {},
   "outputs": [],
   "source": [
    "first_attempt = []\n",
    "for i in range(len(df['捐款者編號'].unique())):\n",
    "        first_attempt.append(df[df['捐款者編號']==df['捐款者編號'].unique()[i]]['捐款狀態'].values[0])"
   ]
  },
  {
   "cell_type": "code",
   "execution_count": 87,
   "metadata": {},
   "outputs": [
    {
     "data": {
      "text/plain": [
       "17183"
      ]
     },
     "execution_count": 87,
     "metadata": {},
     "output_type": "execute_result"
    }
   ],
   "source": [
    "#first attempts\n",
    "len(first_attempt)"
   ]
  },
  {
   "cell_type": "code",
   "execution_count": 88,
   "metadata": {},
   "outputs": [
    {
     "name": "stdout",
     "output_type": "stream",
     "text": [
      "15803\n"
     ]
    }
   ],
   "source": [
    "#sucessful in first attempt\n",
    "count = 0\n",
    "for r in first_attempt:\n",
    "    if r == '已完成':\n",
    "        count += 1\n",
    "print(count)"
   ]
  },
  {
   "cell_type": "code",
   "execution_count": 89,
   "metadata": {},
   "outputs": [],
   "source": [
    "#first attempt total amount\n",
    "amount = 0\n",
    "for i in range(len(df['捐款者編號'].unique())):\n",
    "    amount += int(df[df['捐款者編號']==df['捐款者編號'].unique()[i]]['總金額'].values[0])\n"
   ]
  },
  {
   "cell_type": "code",
   "execution_count": 90,
   "metadata": {},
   "outputs": [
    {
     "data": {
      "text/plain": [
       "11157956"
      ]
     },
     "execution_count": 90,
     "metadata": {},
     "output_type": "execute_result"
    }
   ],
   "source": [
    "amount"
   ]
  },
  {
   "cell_type": "code",
   "execution_count": 93,
   "metadata": {},
   "outputs": [],
   "source": [
    "#first attempt fail amount\n",
    "amount = 0\n",
    "for i in range(len(df['捐款者編號'].unique())):\n",
    "    if df[df['捐款者編號']==df['捐款者編號'].unique()[i]]['捐款狀態'].values[0] == '已完成':\n",
    "        amount += int(df[df['捐款者編號']==df['捐款者編號'].unique()[i]]['總金額'].values[0])"
   ]
  },
  {
   "cell_type": "code",
   "execution_count": 95,
   "metadata": {},
   "outputs": [
    {
     "data": {
      "text/plain": [
       "10241056"
      ]
     },
     "execution_count": 95,
     "metadata": {},
     "output_type": "execute_result"
    }
   ],
   "source": [
    "amount"
   ]
  },
  {
   "cell_type": "code",
   "execution_count": 58,
   "metadata": {},
   "outputs": [],
   "source": [
    "second_attempt = []\n",
    "second_attempt_id = []\n",
    "for i in range(len(df['捐款者編號'].unique())):\n",
    "    try:\n",
    "        second_attempt.append(df[df['捐款者編號']==df['捐款者編號'].unique()[i]]['捐款狀態'].values[1])\n",
    "        second_attempt_id.append(df['捐款者編號'].unique()[i])\n",
    "    except:\n",
    "        continue"
   ]
  },
  {
   "cell_type": "code",
   "execution_count": 57,
   "metadata": {},
   "outputs": [
    {
     "data": {
      "text/plain": [
       "1251"
      ]
     },
     "execution_count": 57,
     "metadata": {},
     "output_type": "execute_result"
    }
   ],
   "source": [
    "len(second_attempt)"
   ]
  },
  {
   "cell_type": "code",
   "execution_count": 59,
   "metadata": {},
   "outputs": [],
   "source": [
    "#count successful debits for second attempt\n",
    "count = 0\n",
    "for i in range(len(second_attempt_id)):\n",
    "    if df[df['捐款者編號']==second_attempt_id[i]]['捐款狀態'].values[-1] == '已完成':\n",
    "        count+=1"
   ]
  },
  {
   "cell_type": "code",
   "execution_count": 60,
   "metadata": {},
   "outputs": [
    {
     "data": {
      "text/plain": [
       "448"
      ]
     },
     "execution_count": 60,
     "metadata": {},
     "output_type": "execute_result"
    }
   ],
   "source": [
    "count"
   ]
  },
  {
   "cell_type": "code",
   "execution_count": 98,
   "metadata": {},
   "outputs": [],
   "source": [
    "#second attempt total amount\n",
    "amount = 0\n",
    "for i in range(len(df['捐款者編號'].unique())):\n",
    "    try:\n",
    "        amount += int(df[df['捐款者編號']==df['捐款者編號'].unique()[i]]['總金額'].values[1])\n",
    "    except:\n",
    "        continue\n"
   ]
  },
  {
   "cell_type": "code",
   "execution_count": 104,
   "metadata": {},
   "outputs": [
    {
     "data": {
      "text/plain": [
       "827700"
      ]
     },
     "execution_count": 104,
     "metadata": {},
     "output_type": "execute_result"
    }
   ],
   "source": [
    "amount"
   ]
  },
  {
   "cell_type": "code",
   "execution_count": 105,
   "metadata": {},
   "outputs": [],
   "source": [
    "#second attempt successful amount\n",
    "amount = 0\n",
    "for id in second_attempt_id:\n",
    "    if len(df[df['捐款者編號']==id]['總金額'].values)>1 and df[df['捐款者編號']==id]['捐款狀態'].values[-1]=='已完成':\n",
    "        amount += df[df['捐款者編號']==id]['總金額'].values[-1]"
   ]
  },
  {
   "cell_type": "code",
   "execution_count": 106,
   "metadata": {},
   "outputs": [
    {
     "data": {
      "text/plain": [
       "288100.0"
      ]
     },
     "execution_count": 106,
     "metadata": {},
     "output_type": "execute_result"
    }
   ],
   "source": [
    "amount"
   ]
  }
 ],
 "metadata": {
  "kernelspec": {
   "display_name": "Python 3",
   "language": "python",
   "name": "python3"
  },
  "language_info": {
   "codemirror_mode": {
    "name": "ipython",
    "version": 3
   },
   "file_extension": ".py",
   "mimetype": "text/x-python",
   "name": "python",
   "nbconvert_exporter": "python",
   "pygments_lexer": "ipython3",
   "version": "3.7.3"
  }
 },
 "nbformat": 4,
 "nbformat_minor": 2
}
